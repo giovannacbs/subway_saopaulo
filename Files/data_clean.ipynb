{
 "cells": [
  {
   "cell_type": "code",
   "execution_count": null,
   "id": "a106fa58",
   "metadata": {},
   "outputs": [],
   "source": [
    "from dbfread import DBF, FieldParser\n",
    "import pandas as pd"
   ]
  },
  {
   "cell_type": "code",
   "execution_count": null,
   "id": "51db480d",
   "metadata": {},
   "outputs": [],
   "source": [
    "dbf_23 = DBF('OD-2023/Banco2023_divulgacao_190225.dbf', load=True)\n",
    "df_23 = pd.DataFrame(iter(dbf_23))\n",
    "\n",
    "df_work_23 = df_23.query('(MOTIVO_D == 1 or MOTIVO_D == 2 or MOTIVO_D == 3) and MOTIVO_O == 8')\n",
    "\n",
    "df_work_23[['CO_TR1_X', 'CO_TR1_Y', 'FE_VIA']].to_csv('work_23.csv', index=False)\n"
   ]
  },
  {
   "cell_type": "code",
   "execution_count": 3,
   "id": "4e01dd26",
   "metadata": {},
   "outputs": [],
   "source": [
    "dbf_17 = DBF('OD-2017/Banco de Dados-OD2017/OD_2017_v1.dbf', load=True)\n",
    "df_17 = pd.DataFrame(iter(dbf_17))\n",
    "\n",
    "df_work_17 = df_17.query('(MOTIVO_D == 1 or MOTIVO_D == 2 or MOTIVO_D == 3) and MOTIVO_O == 8')\n",
    "\n",
    "df_work_17[['CO_TR1_X', 'CO_TR1_Y', 'FE_VIA']].to_csv('work_17.csv', index=False)"
   ]
  },
  {
   "cell_type": "code",
   "execution_count": 9,
   "id": "c920b92a",
   "metadata": {},
   "outputs": [],
   "source": [
    "class SafeFieldParser(FieldParser):\n",
    "    def parseD(self, field, data):\n",
    "        try:\n",
    "            return super().parseD(field, data)\n",
    "        except ValueError:\n",
    "            return None\n",
    "\n",
    "dbf_07 = DBF('OD-2007/Banco de Dados-OD2007/OD_2007_v2d.dbf', parserclass=SafeFieldParser, load=True)\n",
    "df_07 = pd.DataFrame(iter(dbf_07))\n",
    "\n",
    "df_work_07 = df_07.query('(MOTIVO_D == 1 or MOTIVO_D == 2 or MOTIVO_D == 3) and MOTIVO_O == 8')\n",
    "\n",
    "df_work_07[['CO_TR1_X', 'CO_TR1_Y', 'FE_VIA']].to_csv('work_07.csv', index=False)"
   ]
  }
 ],
 "metadata": {
  "kernelspec": {
   "display_name": "3.12.6",
   "language": "python",
   "name": "python3"
  },
  "language_info": {
   "codemirror_mode": {
    "name": "ipython",
    "version": 3
   },
   "file_extension": ".py",
   "mimetype": "text/x-python",
   "name": "python",
   "nbconvert_exporter": "python",
   "pygments_lexer": "ipython3",
   "version": "3.12.6"
  }
 },
 "nbformat": 4,
 "nbformat_minor": 5
}
