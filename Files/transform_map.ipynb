{
 "cells": [
  {
   "cell_type": "code",
   "execution_count": null,
   "id": "3c29db93",
   "metadata": {},
   "outputs": [],
   "source": [
    "from pyrosm import OSM\n",
    "import geopandas as gpd\n",
    "\n",
    "# Download PBF file at \n",
    "\n",
    "file = \"sp2.osm.pbf\"\n",
    "\n",
    "osm = OSM(file)\n",
    "\n",
    "edges = osm.get_network(network_type=\"walking\")\n",
    "\n",
    "edges.to_file(\"rede_sp_2_pyrosm_edges.shp\")"
   ]
  },
  {
   "cell_type": "code",
   "execution_count": null,
   "id": "4719a92a",
   "metadata": {},
   "outputs": [],
   "source": []
  }
 ],
 "metadata": {
  "kernelspec": {
   "display_name": "3.12.6",
   "language": "python",
   "name": "python3"
  },
  "language_info": {
   "codemirror_mode": {
    "name": "ipython",
    "version": 3
   },
   "file_extension": ".py",
   "mimetype": "text/x-python",
   "name": "python",
   "nbconvert_exporter": "python",
   "pygments_lexer": "ipython3",
   "version": "3.12.6"
  }
 },
 "nbformat": 4,
 "nbformat_minor": 5
}
